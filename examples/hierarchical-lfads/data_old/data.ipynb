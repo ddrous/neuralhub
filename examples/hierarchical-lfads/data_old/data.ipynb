{
 "cells": [
  {
   "cell_type": "code",
   "execution_count": 1,
   "id": "initial_id",
   "metadata": {
    "collapsed": true,
    "ExecuteTime": {
     "end_time": "2024-11-12T14:19:06.166888242Z",
     "start_time": "2024-11-12T14:19:06.089061360Z"
    }
   },
   "outputs": [],
   "source": [
    "import h5py"
   ]
  },
  {
   "cell_type": "code",
   "execution_count": 3,
   "outputs": [
    {
     "name": "stdout",
     "output_type": "stream",
     "text": [
      "Keys: <KeysViewHDF5 ['train_encod_data', 'train_recon_data', 'valid_encod_data', 'valid_recon_data']>\n",
      "<HDF5 dataset \"train_encod_data\": shape (18537, 201, 32), type \"<f4\">\n"
     ]
    }
   ],
   "source": [
    "with h5py.File('dataset.h5', \"r\") as f:\n",
    "\n",
    "    print(\"Keys: %s\" % f.keys())\n",
    "    train_data = f['train_encod_data']\n",
    "    print(train_data)"
   ],
   "metadata": {
    "collapsed": false,
    "ExecuteTime": {
     "end_time": "2024-11-12T14:27:17.451502332Z",
     "start_time": "2024-11-12T14:27:17.409551038Z"
    }
   },
   "id": "fbb82e3f63e3a740"
  },
  {
   "cell_type": "code",
   "execution_count": null,
   "outputs": [],
   "source": [],
   "metadata": {
    "collapsed": false
   },
   "id": "f25539a6be148eff"
  }
 ],
 "metadata": {
  "kernelspec": {
   "display_name": "Python 3",
   "language": "python",
   "name": "python3"
  },
  "language_info": {
   "codemirror_mode": {
    "name": "ipython",
    "version": 2
   },
   "file_extension": ".py",
   "mimetype": "text/x-python",
   "name": "python",
   "nbconvert_exporter": "python",
   "pygments_lexer": "ipython2",
   "version": "2.7.6"
  }
 },
 "nbformat": 4,
 "nbformat_minor": 5
}
