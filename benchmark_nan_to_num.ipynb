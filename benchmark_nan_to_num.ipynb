{
  "nbformat": 4,
  "nbformat_minor": 0,
  "metadata": {
    "colab": {
      "provenance": [],
      "authorship_tag": "ABX9TyNfb0d5XZJ8bicGUAL2UlfQ",
      "include_colab_link": true
    },
    "kernelspec": {
      "name": "python3",
      "display_name": "Python 3"
    },
    "language_info": {
      "name": "python"
    }
  },
  "cells": [
    {
      "cell_type": "markdown",
      "metadata": {
        "id": "view-in-github",
        "colab_type": "text"
      },
      "source": [
        "<a href=\"https://colab.research.google.com/github/ddrous/neuralhub/blob/main/benchmark_nan_to_num.ipynb\" target=\"_parent\"><img src=\"https://colab.research.google.com/assets/colab-badge.svg\" alt=\"Open In Colab\"/></a>"
      ]
    },
    {
      "cell_type": "code",
      "source": [
        "%%capture\n",
        "!pip install equinox diffrax"
      ],
      "metadata": {
        "id": "qh-s6zQeUdUq"
      },
      "execution_count": 1,
      "outputs": []
    },
    {
      "cell_type": "code",
      "source": [
        "import jax\n",
        "import jax.numpy as jnp\n",
        "# import equinox as eqx\n",
        "\n",
        "import os\n",
        "os.environ[\"XLA_PYTHON_CLIENT_PREALLOCATE\"] = 'false'\n",
        "\n",
        "jax.devices()"
      ],
      "metadata": {
        "id": "Q-d1sPyn76iX",
        "colab": {
          "base_uri": "https://localhost:8080/"
        },
        "outputId": "d9a97d29-ba68-4ce8-bab6-e3b651cc1166"
      },
      "execution_count": 2,
      "outputs": [
        {
          "output_type": "execute_result",
          "data": {
            "text/plain": [
              "[CudaDevice(id=0)]"
            ]
          },
          "metadata": {},
          "execution_count": 2
        }
      ]
    },
    {
      "cell_type": "markdown",
      "source": [
        "## Run the example"
      ],
      "metadata": {
        "id": "FZIk1oShfb-e"
      }
    },
    {
      "cell_type": "code",
      "source": [
        "### Benchmarks the cost of applying nan_to_num to our resutls\n",
        "from diffrax import diffeqsolve, Dopri5, ODETerm, SaveAt, PIDController\n",
        "\n",
        "vector_field = lambda t, y, args: -y\n",
        "# vector_field = lambda t, y, args: 1/ (t-1)\n",
        "ts = jnp.linspace(0, 0.1, 100)\n",
        "term = ODETerm(vector_field)\n",
        "solver = Dopri5()\n",
        "saveat = SaveAt(ts=ts)\n",
        "stepsize_controller = PIDController(rtol=1e-5, atol=1e-5)\n",
        "\n",
        "\n",
        "@jax.jit\n",
        "def benchmark_1(ts):\n",
        "    sol = diffeqsolve(term, solver, t0=ts[0], t1=ts[-1], dt0=0.1, y0=1, saveat=saveat,\n",
        "                    stepsize_controller=stepsize_controller, max_steps=100, throw=False)\n",
        "    return sol.ys\n",
        "\n",
        "@jax.jit\n",
        "def benchmark_2(ts):\n",
        "    sol = diffeqsolve(term, solver, t0=ts[0], t1=ts[-1], dt0=0.1, y0=1, saveat=saveat,\n",
        "                    stepsize_controller=stepsize_controller, max_steps=100, throw=False)\n",
        "    return jnp.nan_to_num(sol.ys, nan=0., neginf=0., posinf=0.)\n",
        "\n",
        "\n",
        "print(\"======= Clean function ======== \")\n",
        "%time benchmark_1(ts).block_until_ready()\n",
        "%timeit -r30 -n40 benchmark_1(ts).block_until_ready()\n",
        "\n",
        "print(\"\\n======= With NaNs to Nums ======== \")\n",
        "%time benchmark_2(ts).block_until_ready()\n",
        "%timeit -r30 -n40 benchmark_2(ts).block_until_ready()"
      ],
      "metadata": {
        "colab": {
          "base_uri": "https://localhost:8080/"
        },
        "id": "zDjO-PzOlzCI",
        "outputId": "60e18127-f2f7-4c22-98b0-adc42756597e"
      },
      "execution_count": 5,
      "outputs": [
        {
          "output_type": "stream",
          "name": "stdout",
          "text": [
            "======= Clean function ======== \n",
            "CPU times: user 799 ms, sys: 30 ms, total: 829 ms\n",
            "Wall time: 861 ms\n",
            "3.38 ms ± 74.3 µs per loop (mean ± std. dev. of 30 runs, 40 loops each)\n",
            "\n",
            "======= With NaNs to Nums ======== \n",
            "CPU times: user 403 ms, sys: 9 ms, total: 412 ms\n",
            "Wall time: 441 ms\n",
            "3.37 ms ± 93.8 µs per loop (mean ± std. dev. of 30 runs, 40 loops each)\n"
          ]
        }
      ]
    }
  ]
}